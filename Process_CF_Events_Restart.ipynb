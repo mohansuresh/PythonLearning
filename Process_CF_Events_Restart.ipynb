{
  "nbformat": 4,
  "nbformat_minor": 0,
  "metadata": {
    "colab": {
      "name": "Process_CF_Events_Restart.ipynb",
      "provenance": [],
      "collapsed_sections": [],
      "authorship_tag": "ABX9TyPWDf0uIDUr8WmEW+6fJufL",
      "include_colab_link": true
    },
    "kernelspec": {
      "name": "python3",
      "display_name": "Python 3"
    },
    "language_info": {
      "name": "python"
    }
  },
  "cells": [
    {
      "cell_type": "markdown",
      "metadata": {
        "id": "view-in-github",
        "colab_type": "text"
      },
      "source": [
        "<a href=\"https://colab.research.google.com/github/mohansuresh/PythonLearning/blob/master/Process_CF_Events_Restart.ipynb\" target=\"_parent\"><img src=\"https://colab.research.google.com/assets/colab-badge.svg\" alt=\"Open In Colab\"/></a>"
      ]
    },
    {
      "cell_type": "code",
      "execution_count": null,
      "metadata": {
        "colab": {
          "base_uri": "https://localhost:8080/"
        },
        "id": "kq58_pfvAEtt",
        "outputId": "295b7df9-afe7-4662-c496-bd5b00030add"
      },
      "outputs": [
        {
          "output_type": "stream",
          "name": "stdout",
          "text": [
            "[{'entity': {'type': 'audit.app.restart', 'actor': 'ce7a6005-0642-44b5-bbad-6aa15b5bc5bb', 'actor_type': 'user', 'actor_name': 'meenakshi.singh01@sap.com', 'actee': 'bb7334a3-db4b-4cbc-bd05-648d6f2e228c', 'acte_type': '', 'actee_name': 'it-app-prov', 'timestamp': '2022-06-28T08:17:11Z', 'metadata': {'request': {'state': '', 'recursive': ''}}, 'space_guid': 'dc1f819b-5a36-4b74-b16a-750028faf415', 'organization_guid': '158d53b6-f1b8-4a2e-b317-4905726231b1', 'space': 'prov_eu10_acfun001', 'org': 'cpi_fun_eu10_org'}, 'metadata': {'guid': '3ec8380c-950a-47bf-bf94-6173223db27c'}}, {'entity': {'type': 'audit.app.update', 'actor': 'ce7a6005-0642-44b5-bbad-6aa15b5bc5bb', 'actor_type': 'user', 'actor_name': 'meenakshi.singh01@sap.com', 'actee': 'bb7334a3-db4b-4cbc-bd05-648d6f2e228c', 'acte_type': '', 'actee_name': 'it-app-prov', 'timestamp': '2022-06-28T08:17:01Z', 'metadata': {'request': {'state': '', 'recursive': ''}}, 'space_guid': 'dc1f819b-5a36-4b74-b16a-750028faf415', 'organization_guid': '158d53b6-f1b8-4a2e-b317-4905726231b1', 'space': 'prov_eu10_acfun001', 'org': 'cpi_fun_eu10_org'}, 'metadata': {'guid': 'e6cef489-bf19-465d-847b-10f5652d68fb'}}, {'entity': {'type': 'audit.app.restart', 'actor': 'ce7a6005-0642-44b5-bbad-6aa15b5bc5bb', 'actor_type': 'user', 'actor_name': 'meenakshi.singh01@sap.com', 'actee': 'bb7334a3-db4b-4cbc-bd05-648d6f2e228c', 'acte_type': '', 'actee_name': 'it-app-prov', 'timestamp': '2022-06-28T08:03:32Z', 'metadata': {'request': {'state': '', 'recursive': ''}}, 'space_guid': 'dc1f819b-5a36-4b74-b16a-750028faf415', 'organization_guid': '158d53b6-f1b8-4a2e-b317-4905726231b1', 'space': 'prov_eu10_acfun001', 'org': 'cpi_fun_eu10_org'}, 'metadata': {'guid': '80cb8fc8-daf8-4c01-ba44-f18283f2dc5e'}}, {'entity': {'type': 'audit.app.update', 'actor': 'ce7a6005-0642-44b5-bbad-6aa15b5bc5bb', 'actor_type': 'user', 'actor_name': 'meenakshi.singh01@sap.com', 'actee': 'bb7334a3-db4b-4cbc-bd05-648d6f2e228c', 'acte_type': '', 'actee_name': 'it-app-prov', 'timestamp': '2022-06-28T07:47:03Z', 'metadata': {'request': {'state': '', 'recursive': ''}}, 'space_guid': 'dc1f819b-5a36-4b74-b16a-750028faf415', 'organization_guid': '158d53b6-f1b8-4a2e-b317-4905726231b1', 'space': 'prov_eu10_acfun001', 'org': 'cpi_fun_eu10_org'}, 'metadata': {'guid': '347db0f2-1fc8-4504-8bfa-f893d772ab03'}}]\n"
          ]
        }
      ],
      "source": [
        "# This will process the json document craeted using the command cf get-events --yesterday-on --json | Out-File Events.json -Append\n",
        "#\n",
        "#\n",
        "\n",
        "import json\n",
        "\n",
        "f = open('/content/Events.json')\n",
        "data = json.load(f)\n",
        "\n",
        "#print(len(data['resources']))\n",
        "\n",
        "mylst = []\n",
        "\n",
        "for item in data['resources']:\n",
        "  if (item['entity']['type'] == \"audit.app.update\" or item['entity']['type'] == \"audit.app.restart\") and (item['entity']['actee_name'] == \"it-app-prov-idle\" or item['entity']['actee_name'] == \"it-app-prov-live\" or item['entity']['actee_name'] == \"it-app-prov\") and item['entity']['space'] == \"prov_eu10_acfun001\" :\n",
        "    mylst.append(item)\n",
        "\n",
        "print(mylst)\n",
        "with open('output.json', 'w') as f:\n",
        "    json.dump(mylst, f)"
      ]
    }
  ]
}